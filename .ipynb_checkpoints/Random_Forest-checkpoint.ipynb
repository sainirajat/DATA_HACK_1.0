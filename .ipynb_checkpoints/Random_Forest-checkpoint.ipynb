{
 "cells": [
  {
   "cell_type": "code",
   "execution_count": 1,
   "metadata": {},
   "outputs": [
    {
     "name": "stderr",
     "output_type": "stream",
     "text": [
      "Using TensorFlow backend.\n"
     ]
    }
   ],
   "source": [
    "import numpy as np\n",
    "import matplotlib.pyplot as plt\n",
    "%matplotlib inline\n",
    "import pandas as pd\n",
    "from keras.models import Input,Sequential\n",
    "from keras.layers import Activation,Dense,Dropout,InputLayer\n",
    "from keras.utils import np_utils"
   ]
  },
  {
   "cell_type": "code",
   "execution_count": 2,
   "metadata": {},
   "outputs": [],
   "source": [
    "df = pd.read_csv('./training_data.csv')\n",
    "test_file = pd.read_csv('./testing_data.csv')"
   ]
  },
  {
   "cell_type": "code",
   "execution_count": 3,
   "metadata": {},
   "outputs": [
    {
     "name": "stdout",
     "output_type": "stream",
     "text": [
      "Index([u'id', u'game', u'white', u'black', u'white_elo', u'black_elo',\n",
      "       u'white_rd', u'black_rd', u'whiteiscomp', u'blackiscomp',\n",
      "       u'timecontrol', u'date', u'time', u'white_clock', u'black_clock',\n",
      "       u'eco', u'plycount', u'commentaries', u'moves'],\n",
      "      dtype='object')\n"
     ]
    }
   ],
   "source": [
    "print df.columns"
   ]
  },
  {
   "cell_type": "code",
   "execution_count": 4,
   "metadata": {},
   "outputs": [],
   "source": [
    "ids=test_file['id']"
   ]
  },
  {
   "cell_type": "code",
   "execution_count": 5,
   "metadata": {},
   "outputs": [],
   "source": [
    "df = df.drop(['id','game','date','time','moves','white_clock','black_clock'],axis=1)\n",
    "test_file = test_file.drop(['id','game','date','time','moves','white_clock','black_clock'],axis=1)"
   ]
  },
  {
   "cell_type": "code",
   "execution_count": 6,
   "metadata": {},
   "outputs": [],
   "source": [
    "from sklearn.preprocessing import LabelEncoder"
   ]
  },
  {
   "cell_type": "code",
   "execution_count": 7,
   "metadata": {},
   "outputs": [],
   "source": [
    "le1 = LabelEncoder()\n",
    "# df['commentaries'] = df['commentaries'].apply(le1.fit_transform)\n",
    "le = LabelEncoder()\n",
    "df = df.apply(le.fit_transform)\n",
    "le2 = LabelEncoder()\n",
    "test_file = test_file.apply(le2.fit_transform)"
   ]
  },
  {
   "cell_type": "code",
   "execution_count": 8,
   "metadata": {},
   "outputs": [
    {
     "name": "stdout",
     "output_type": "stream",
     "text": [
      "(52676, 12)\n",
      "(28365, 11)\n",
      "Index([u'white', u'black', u'white_elo', u'black_elo', u'white_rd',\n",
      "       u'black_rd', u'whiteiscomp', u'blackiscomp', u'timecontrol', u'eco',\n",
      "       u'plycount', u'commentaries'],\n",
      "      dtype='object')\n",
      "Index([u'white', u'black', u'white_elo', u'black_elo', u'white_rd',\n",
      "       u'black_rd', u'whiteiscomp', u'blackiscomp', u'timecontrol', u'eco',\n",
      "       u'plycount'],\n",
      "      dtype='object')\n"
     ]
    }
   ],
   "source": [
    "print df.shape\n",
    "print test_file.shape\n",
    "print df.columns\n",
    "print test_file.columns"
   ]
  },
  {
   "cell_type": "code",
   "execution_count": 9,
   "metadata": {},
   "outputs": [],
   "source": [
    "df = df.values\n",
    "test_file =test_file.values"
   ]
  },
  {
   "cell_type": "code",
   "execution_count": 10,
   "metadata": {},
   "outputs": [
    {
     "name": "stdout",
     "output_type": "stream",
     "text": [
      "(42140, 11) (10536, 11)\n",
      "(42140,) (10536,)\n"
     ]
    }
   ],
   "source": [
    "split = int(0.80*df.shape[0])\n",
    "train_x = df[:split,:-1]\n",
    "train_y = df[:split,-1]\n",
    "test_x = df[split:,:-1]\n",
    "test_y = df[split:,-1]\n",
    "print train_x.shape,test_x.shape\n",
    "print train_y.shape,test_y.shape"
   ]
  },
  {
   "cell_type": "code",
   "execution_count": 11,
   "metadata": {},
   "outputs": [],
   "source": [
    "from sklearn.tree import DecisionTreeClassifier\n",
    "from sklearn.ensemble import RandomForestClassifier"
   ]
  },
  {
   "cell_type": "code",
   "execution_count": 91,
   "metadata": {},
   "outputs": [],
   "source": [
    "dt = DecisionTreeClassifier(max_depth=13)\n",
    "rf = RandomForestClassifier(max_depth=13)"
   ]
  },
  {
   "cell_type": "code",
   "execution_count": 92,
   "metadata": {},
   "outputs": [
    {
     "data": {
      "text/plain": [
       "RandomForestClassifier(bootstrap=True, class_weight=None, criterion='gini',\n",
       "            max_depth=13, max_features='auto', max_leaf_nodes=None,\n",
       "            min_impurity_decrease=0.0, min_impurity_split=None,\n",
       "            min_samples_leaf=1, min_samples_split=2,\n",
       "            min_weight_fraction_leaf=0.0, n_estimators=10, n_jobs=1,\n",
       "            oob_score=False, random_state=None, verbose=0,\n",
       "            warm_start=False)"
      ]
     },
     "execution_count": 92,
     "metadata": {},
     "output_type": "execute_result"
    }
   ],
   "source": [
    "dt.fit(train_x,train_y)\n",
    "rf.fit(train_x,train_y)"
   ]
  },
  {
   "cell_type": "code",
   "execution_count": 93,
   "metadata": {},
   "outputs": [
    {
     "name": "stdout",
     "output_type": "stream",
     "text": [
      "0.66817750356\n",
      "0.585895975702\n",
      "----\n",
      "0.710939724727\n",
      "0.611617312073\n"
     ]
    }
   ],
   "source": [
    "print dt.score(train_x,train_y)\n",
    "print dt.score(test_x,test_y)\n",
    "\n",
    "\n",
    "print \"----\"\n",
    "print rf.score(train_x,train_y)\n",
    "print rf.score(test_x,test_y)\n"
   ]
  },
  {
   "cell_type": "code",
   "execution_count": 94,
   "metadata": {},
   "outputs": [],
   "source": [
    "predicitons = rf.predict(test_file)"
   ]
  },
  {
   "cell_type": "code",
   "execution_count": 95,
   "metadata": {},
   "outputs": [
    {
     "name": "stdout",
     "output_type": "stream",
     "text": [
      "[14  4 10 14  4 14  4  4  4  4 10  4  4  4  4 14 14  4  0  4  4  4 14  4 10]\n"
     ]
    }
   ],
   "source": [
    "print predicitons[:25]"
   ]
  },
  {
   "cell_type": "code",
   "execution_count": 96,
   "metadata": {},
   "outputs": [],
   "source": [
    "import sklearn.preprocessing"
   ]
  },
  {
   "cell_type": "code",
   "execution_count": 97,
   "metadata": {},
   "outputs": [],
   "source": [
    "new_predictions = le.inverse_transform(predicitons)"
   ]
  },
  {
   "cell_type": "code",
   "execution_count": 98,
   "metadata": {},
   "outputs": [
    {
     "name": "stdout",
     "output_type": "stream",
     "text": [
      "['White resigns' 'Black resigns' 'White checkmated' 'White resigns'\n",
      " 'Black resigns' 'White resigns' 'Black resigns' 'Black resigns'\n",
      " 'Black resigns' 'Black resigns' 'White checkmated' 'Black resigns'\n",
      " 'Black resigns' 'Black resigns' 'Black resigns' 'White resigns'\n",
      " 'White resigns' 'Black resigns' 'Black checkmated' 'Black resigns'\n",
      " 'Black resigns' 'Black resigns' 'White resigns' 'Black resigns'\n",
      " 'White checkmated']\n"
     ]
    }
   ],
   "source": [
    "print new_predictions[:25]"
   ]
  },
  {
   "cell_type": "code",
   "execution_count": 99,
   "metadata": {},
   "outputs": [],
   "source": [
    "dataframe = {\n",
    "    'commentaries':new_predictions,\n",
    "    'id':ids,\n",
    "}\n"
   ]
  },
  {
   "cell_type": "code",
   "execution_count": 100,
   "metadata": {},
   "outputs": [],
   "source": [
    "output = pd.DataFrame(data=dataframe)"
   ]
  },
  {
   "cell_type": "code",
   "execution_count": 101,
   "metadata": {},
   "outputs": [],
   "source": [
    "output.to_csv('random2',sep=',',index=False,columns=['id','commentaries'])"
   ]
  },
  {
   "cell_type": "code",
   "execution_count": 23,
   "metadata": {},
   "outputs": [],
   "source": [
    "#accuracy of submission file is 56%"
   ]
  },
  {
   "cell_type": "code",
   "execution_count": null,
   "metadata": {},
   "outputs": [],
   "source": []
  }
 ],
 "metadata": {
  "kernelspec": {
   "display_name": "Python 2",
   "language": "python",
   "name": "python2"
  },
  "language_info": {
   "codemirror_mode": {
    "name": "ipython",
    "version": 2
   },
   "file_extension": ".py",
   "mimetype": "text/x-python",
   "name": "python",
   "nbconvert_exporter": "python",
   "pygments_lexer": "ipython2",
   "version": "2.7.14"
  }
 },
 "nbformat": 4,
 "nbformat_minor": 2
}
