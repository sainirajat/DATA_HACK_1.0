{
 "cells": [
  {
   "cell_type": "code",
   "execution_count": 1,
   "metadata": {},
   "outputs": [],
   "source": [
    "import numpy as np\n",
    "import matplotlib.pyplot as plt\n",
    "%matplotlib inline \n",
    "import pandas as pd"
   ]
  },
  {
   "cell_type": "code",
   "execution_count": 2,
   "metadata": {},
   "outputs": [
    {
     "name": "stderr",
     "output_type": "stream",
     "text": [
      "Using TensorFlow backend.\n"
     ]
    }
   ],
   "source": [
    "from keras.layers import Input,Activation\n",
    "from keras.utils import np_utils\n",
    "# from keras."
   ]
  },
  {
   "cell_type": "code",
   "execution_count": 3,
   "metadata": {},
   "outputs": [],
   "source": [
    "df = pd.read_csv('./training_data.csv')\n",
    "test_file = pd.read_csv('./testing_data.csv')"
   ]
  },
  {
   "cell_type": "code",
   "execution_count": 4,
   "metadata": {},
   "outputs": [],
   "source": [
    "# print df[:10]"
   ]
  },
  {
   "cell_type": "code",
   "execution_count": 5,
   "metadata": {},
   "outputs": [
    {
     "name": "stdout",
     "output_type": "stream",
     "text": [
      "Index([u'id', u'game', u'white', u'black', u'white_elo', u'black_elo',\n",
      "       u'white_rd', u'black_rd', u'whiteiscomp', u'blackiscomp',\n",
      "       u'timecontrol', u'date', u'time', u'white_clock', u'black_clock',\n",
      "       u'eco', u'plycount', u'commentaries', u'moves'],\n",
      "      dtype='object')\n"
     ]
    }
   ],
   "source": [
    "print df.columns"
   ]
  },
  {
   "cell_type": "code",
   "execution_count": 6,
   "metadata": {},
   "outputs": [],
   "source": [
    "ids=test_file['id']"
   ]
  },
  {
   "cell_type": "code",
   "execution_count": 7,
   "metadata": {},
   "outputs": [],
   "source": [
    "df = df.drop(['id','game','date','time','moves','white_clock','black_clock'],axis=1)\n",
    "test_file = test_file.drop(['id','game','date','time','moves','white_clock','black_clock'],axis=1)"
   ]
  },
  {
   "cell_type": "code",
   "execution_count": 8,
   "metadata": {},
   "outputs": [
    {
     "name": "stdout",
     "output_type": "stream",
     "text": [
      "Index([u'white', u'black', u'white_elo', u'black_elo', u'white_rd',\n",
      "       u'black_rd', u'whiteiscomp', u'blackiscomp', u'timecontrol', u'eco',\n",
      "       u'plycount', u'commentaries'],\n",
      "      dtype='object')\n",
      "Index([u'white', u'black', u'white_elo', u'black_elo', u'white_rd',\n",
      "       u'black_rd', u'whiteiscomp', u'blackiscomp', u'timecontrol', u'eco',\n",
      "       u'plycount'],\n",
      "      dtype='object')\n"
     ]
    }
   ],
   "source": [
    "print df.columns\n",
    "print test_file.columns\n"
   ]
  },
  {
   "cell_type": "code",
   "execution_count": 9,
   "metadata": {},
   "outputs": [],
   "source": [
    "from sklearn.preprocessing import LabelEncoder"
   ]
  },
  {
   "cell_type": "code",
   "execution_count": 10,
   "metadata": {},
   "outputs": [],
   "source": [
    "le = LabelEncoder()\n",
    "df = df.apply(le.fit_transform)"
   ]
  },
  {
   "cell_type": "code",
   "execution_count": 11,
   "metadata": {},
   "outputs": [],
   "source": [
    "le2 = LabelEncoder()\n",
    "test_file = test_file.apply(le2.fit_transform)"
   ]
  },
  {
   "cell_type": "code",
   "execution_count": 12,
   "metadata": {},
   "outputs": [
    {
     "name": "stdout",
     "output_type": "stream",
     "text": [
      "   white  black  white_elo  black_elo  white_rd  black_rd  whiteiscomp  \\\n",
      "0   1240    338       1025        336       275      2425            1   \n",
      "1   1712    734        350       1241      2595       488            0   \n",
      "2   2843    734        370        949       330       338            0   \n",
      "3   1586    580        437        890       266        40            0   \n",
      "4   2804    580        518        814       157        40            0   \n",
      "5    651    522       1129       1407       484        58            0   \n",
      "6   1015    522        888        585      1524        82            0   \n",
      "7    590    702        779        495       134        40            1   \n",
      "8    927   1365        992        319       243      2307            1   \n",
      "9   1309    907        366        946       548       234            0   \n",
      "\n",
      "   blackiscomp  timecontrol  eco  plycount  commentaries  \n",
      "0            0          111  148        45             0  \n",
      "1            1           86  236        30            12  \n",
      "2            1          111   95         1            14  \n",
      "3            1           63  105        56            14  \n",
      "4            1           63  113        58            14  \n",
      "5            1          111    0        46            10  \n",
      "6            1           63  117        40             4  \n",
      "7            0           63  477        66            14  \n",
      "8            0          111  256        39             4  \n",
      "9            1          111  145        28            12  \n"
     ]
    }
   ],
   "source": [
    "print df[:10]"
   ]
  },
  {
   "cell_type": "code",
   "execution_count": 13,
   "metadata": {},
   "outputs": [],
   "source": [
    "df = df.values\n",
    "test_file = test_file.values"
   ]
  },
  {
   "cell_type": "code",
   "execution_count": 14,
   "metadata": {},
   "outputs": [
    {
     "name": "stdout",
     "output_type": "stream",
     "text": [
      "(52676, 12)\n"
     ]
    }
   ],
   "source": [
    "print df.shape"
   ]
  },
  {
   "cell_type": "code",
   "execution_count": 15,
   "metadata": {},
   "outputs": [
    {
     "name": "stdout",
     "output_type": "stream",
     "text": [
      "(42140, 11) (42140,)\n",
      "(10536, 11) (10536,)\n"
     ]
    }
   ],
   "source": [
    "split = int(.80*df.shape[0])\n",
    "train_x = df[:split,:-1]\n",
    "train_y = df[:split,-1]\n",
    "test_x = df[split:,:-1]\n",
    "test_y = df[split:,-1]\n",
    "print train_x.shape,train_y.shape\n",
    "print test_x.shape,test_y.shape"
   ]
  },
  {
   "cell_type": "code",
   "execution_count": 16,
   "metadata": {},
   "outputs": [
    {
     "name": "stdout",
     "output_type": "stream",
     "text": [
      "(42140, 15)\n",
      "(10536, 15)\n"
     ]
    }
   ],
   "source": [
    "train_yy = np_utils.to_categorical(train_y)\n",
    "test_yy = np_utils.to_categorical(test_y)\n",
    "print train_yy.shape\n",
    "print test_yy.shape"
   ]
  },
  {
   "cell_type": "code",
   "execution_count": 17,
   "metadata": {},
   "outputs": [],
   "source": [
    "from keras.models import Sequential\n",
    "from keras.layers import Dropout,InputLayer,Dense"
   ]
  },
  {
   "cell_type": "code",
   "execution_count": 30,
   "metadata": {},
   "outputs": [
    {
     "name": "stdout",
     "output_type": "stream",
     "text": [
      "_________________________________________________________________\n",
      "Layer (type)                 Output Shape              Param #   \n",
      "=================================================================\n",
      "dense_9 (Dense)              (None, 8)                 96        \n",
      "_________________________________________________________________\n",
      "activation_9 (Activation)    (None, 8)                 0         \n",
      "_________________________________________________________________\n",
      "dropout_3 (Dropout)          (None, 8)                 0         \n",
      "_________________________________________________________________\n",
      "dense_10 (Dense)             (None, 12)                108       \n",
      "_________________________________________________________________\n",
      "activation_10 (Activation)   (None, 12)                0         \n",
      "_________________________________________________________________\n",
      "dropout_4 (Dropout)          (None, 12)                0         \n",
      "_________________________________________________________________\n",
      "dense_11 (Dense)             (None, 15)                195       \n",
      "_________________________________________________________________\n",
      "activation_11 (Activation)   (None, 15)                0         \n",
      "=================================================================\n",
      "Total params: 399\n",
      "Trainable params: 399\n",
      "Non-trainable params: 0\n",
      "_________________________________________________________________\n"
     ]
    }
   ],
   "source": [
    "model = Sequential()\n",
    "model.add(Dense(8,input_shape=(11,)))\n",
    "model.add(Activation('relu'))\n",
    "model.add(Dropout(0.3))\n",
    "\n",
    "model.add(Dense(12))\n",
    "model.add(Activation('relu'))\n",
    "model.add(Dropout(0.3))\n",
    "\n",
    "model.add(Dense(15))\n",
    "model.add(Activation('softmax'))\n",
    "model.summary()"
   ]
  },
  {
   "cell_type": "code",
   "execution_count": 31,
   "metadata": {},
   "outputs": [],
   "source": [
    "model.compile(optimizer='adam',metrics=['accuracy'],loss='categorical_crossentropy')"
   ]
  },
  {
   "cell_type": "code",
   "execution_count": 33,
   "metadata": {},
   "outputs": [
    {
     "name": "stdout",
     "output_type": "stream",
     "text": [
      "Train on 42140 samples, validate on 10536 samples\n",
      "Epoch 1/10\n",
      " - 3s - loss: 11.5108 - acc: 0.2781 - val_loss: 11.5485 - val_acc: 0.2835\n",
      "Epoch 2/10\n",
      " - 3s - loss: 9.6229 - acc: 0.2794 - val_loss: 11.5485 - val_acc: 0.2835\n",
      "Epoch 3/10\n",
      " - 3s - loss: 8.7585 - acc: 0.2767 - val_loss: 11.5485 - val_acc: 0.2835\n",
      "Epoch 4/10\n",
      " - 3s - loss: 8.7043 - acc: 0.2778 - val_loss: 11.5485 - val_acc: 0.2835\n",
      "Epoch 5/10\n",
      " - 3s - loss: 8.7055 - acc: 0.2799 - val_loss: 11.5485 - val_acc: 0.2835\n",
      "Epoch 6/10\n",
      " - 3s - loss: 8.6989 - acc: 0.2806 - val_loss: 11.5485 - val_acc: 0.2835\n",
      "Epoch 7/10\n",
      " - 3s - loss: 5.5255 - acc: 0.2783 - val_loss: 1.9310 - val_acc: 0.2674\n",
      "Epoch 8/10\n",
      " - 3s - loss: 1.9309 - acc: 0.2792 - val_loss: 1.9307 - val_acc: 0.2835\n",
      "Epoch 9/10\n",
      " - 3s - loss: 1.9293 - acc: 0.2785 - val_loss: 1.9306 - val_acc: 0.2835\n",
      "Epoch 10/10\n",
      " - 3s - loss: 1.9282 - acc: 0.2773 - val_loss: 1.9315 - val_acc: 0.2674\n"
     ]
    },
    {
     "data": {
      "text/plain": [
       "<keras.callbacks.History at 0x11c9cab90>"
      ]
     },
     "execution_count": 33,
     "metadata": {},
     "output_type": "execute_result"
    }
   ],
   "source": [
    "model.fit(train_x,train_yy,epochs=10,verbose=2,validation_data=(test_x,test_yy))"
   ]
  },
  {
   "cell_type": "code",
   "execution_count": 35,
   "metadata": {},
   "outputs": [],
   "source": [
    "# print ids[:10]"
   ]
  },
  {
   "cell_type": "code",
   "execution_count": 39,
   "metadata": {},
   "outputs": [],
   "source": [
    "predictions = model.predict(test_file)"
   ]
  },
  {
   "cell_type": "code",
   "execution_count": 42,
   "metadata": {},
   "outputs": [
    {
     "name": "stdout",
     "output_type": "stream",
     "text": [
      "[[ 0.13209301  0.02716094  0.03948154  0.00121247  0.26857701  0.01144705\n",
      "   0.03325363  0.00200541  0.00406832  0.00693509  0.12475231  0.02995913\n",
      "   0.04136294  0.0011249   0.2765663 ]\n",
      " [ 0.13209301  0.02716094  0.03948154  0.00121247  0.26857701  0.01144705\n",
      "   0.03325363  0.00200541  0.00406832  0.00693509  0.12475231  0.02995913\n",
      "   0.04136294  0.0011249   0.2765663 ]\n",
      " [ 0.13209301  0.02716094  0.03948154  0.00121247  0.26857701  0.01144705\n",
      "   0.03325363  0.00200541  0.00406832  0.00693509  0.12475231  0.02995913\n",
      "   0.04136294  0.0011249   0.2765663 ]\n",
      " [ 0.13209301  0.02716094  0.03948154  0.00121247  0.26857701  0.01144705\n",
      "   0.03325363  0.00200541  0.00406832  0.00693509  0.12475231  0.02995913\n",
      "   0.04136294  0.0011249   0.2765663 ]\n",
      " [ 0.13209301  0.02716094  0.03948154  0.00121247  0.26857701  0.01144705\n",
      "   0.03325363  0.00200541  0.00406832  0.00693509  0.12475231  0.02995913\n",
      "   0.04136294  0.0011249   0.2765663 ]\n",
      " [ 0.13209301  0.02716094  0.03948154  0.00121247  0.26857701  0.01144705\n",
      "   0.03325363  0.00200541  0.00406832  0.00693509  0.12475231  0.02995913\n",
      "   0.04136294  0.0011249   0.2765663 ]\n",
      " [ 0.13209301  0.02716094  0.03948154  0.00121247  0.26857701  0.01144705\n",
      "   0.03325363  0.00200541  0.00406832  0.00693509  0.12475231  0.02995913\n",
      "   0.04136294  0.0011249   0.2765663 ]\n",
      " [ 0.13209301  0.02716094  0.03948154  0.00121247  0.26857701  0.01144705\n",
      "   0.03325363  0.00200541  0.00406832  0.00693509  0.12475231  0.02995913\n",
      "   0.04136294  0.0011249   0.2765663 ]\n",
      " [ 0.13209301  0.02716094  0.03948154  0.00121247  0.26857701  0.01144705\n",
      "   0.03325363  0.00200541  0.00406832  0.00693509  0.12475231  0.02995913\n",
      "   0.04136294  0.0011249   0.2765663 ]\n",
      " [ 0.13209301  0.02716094  0.03948154  0.00121247  0.26857701  0.01144705\n",
      "   0.03325363  0.00200541  0.00406832  0.00693509  0.12475231  0.02995913\n",
      "   0.04136294  0.0011249   0.2765663 ]]\n"
     ]
    }
   ],
   "source": [
    "print predictions[:10]"
   ]
  },
  {
   "cell_type": "code",
   "execution_count": null,
   "metadata": {},
   "outputs": [],
   "source": []
  },
  {
   "cell_type": "code",
   "execution_count": null,
   "metadata": {},
   "outputs": [],
   "source": []
  },
  {
   "cell_type": "code",
   "execution_count": null,
   "metadata": {},
   "outputs": [],
   "source": []
  }
 ],
 "metadata": {
  "kernelspec": {
   "display_name": "Python 2",
   "language": "python",
   "name": "python2"
  },
  "language_info": {
   "codemirror_mode": {
    "name": "ipython",
    "version": 2
   },
   "file_extension": ".py",
   "mimetype": "text/x-python",
   "name": "python",
   "nbconvert_exporter": "python",
   "pygments_lexer": "ipython2",
   "version": "2.7.14"
  }
 },
 "nbformat": 4,
 "nbformat_minor": 2
}
