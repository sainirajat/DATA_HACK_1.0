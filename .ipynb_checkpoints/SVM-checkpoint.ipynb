{
 "cells": [
  {
   "cell_type": "code",
   "execution_count": 1,
   "metadata": {},
   "outputs": [],
   "source": [
    "import numpy as np\n",
    "import matplotlib.pyplot as plt\n",
    "%matplotlib inline\n",
    "from sklearn.svm import SVC\n",
    "import pandas as pd\n",
    "from sklearn.preprocessing import LabelEncoder"
   ]
  },
  {
   "cell_type": "code",
   "execution_count": 2,
   "metadata": {},
   "outputs": [],
   "source": [
    "df = pd.read_csv('./training_data.csv')\n",
    "test_file = pd.read_csv('./testing_data.csv')"
   ]
  },
  {
   "cell_type": "code",
   "execution_count": 3,
   "metadata": {},
   "outputs": [
    {
     "name": "stdout",
     "output_type": "stream",
     "text": [
      "Index([u'id', u'game', u'white', u'black', u'white_elo', u'black_elo',\n",
      "       u'white_rd', u'black_rd', u'whiteiscomp', u'blackiscomp',\n",
      "       u'timecontrol', u'date', u'time', u'white_clock', u'black_clock',\n",
      "       u'eco', u'plycount', u'commentaries', u'moves'],\n",
      "      dtype='object')\n"
     ]
    }
   ],
   "source": [
    "print df.columns\n",
    "ids = test_file['id']"
   ]
  },
  {
   "cell_type": "code",
   "execution_count": 4,
   "metadata": {},
   "outputs": [],
   "source": [
    "df = df.drop(['id','game','date','time','moves'],axis=1)\n",
    "test_file = test_file.drop(['id','game','date','time','moves'],axis=1)"
   ]
  },
  {
   "cell_type": "code",
   "execution_count": 5,
   "metadata": {},
   "outputs": [
    {
     "name": "stdout",
     "output_type": "stream",
     "text": [
      "Index([u'white', u'black', u'white_elo', u'black_elo', u'white_rd',\n",
      "       u'black_rd', u'whiteiscomp', u'blackiscomp', u'timecontrol',\n",
      "       u'white_clock', u'black_clock', u'eco', u'plycount', u'commentaries'],\n",
      "      dtype='object')\n",
      "Index([u'white', u'black', u'white_elo', u'black_elo', u'white_rd',\n",
      "       u'black_rd', u'whiteiscomp', u'blackiscomp', u'timecontrol',\n",
      "       u'white_clock', u'black_clock', u'eco', u'plycount'],\n",
      "      dtype='object')\n"
     ]
    }
   ],
   "source": [
    "print df.columns\n",
    "print test_file.columns"
   ]
  },
  {
   "cell_type": "code",
   "execution_count": 6,
   "metadata": {},
   "outputs": [],
   "source": [
    "le = LabelEncoder()\n",
    "le2 = LabelEncoder()"
   ]
  },
  {
   "cell_type": "code",
   "execution_count": 7,
   "metadata": {},
   "outputs": [],
   "source": [
    "df = df.apply(le.fit_transform)\n",
    "test_file = test_file.apply(le2.fit_transform)"
   ]
  },
  {
   "cell_type": "code",
   "execution_count": 8,
   "metadata": {},
   "outputs": [
    {
     "name": "stdout",
     "output_type": "stream",
     "text": [
      "   white  black  white_elo  black_elo  white_rd  black_rd  whiteiscomp  \\\n",
      "0   1240    338       1025        336       275      2425            1   \n",
      "1   1712    734        350       1241      2595       488            0   \n",
      "2   2843    734        370        949       330       338            0   \n",
      "3   1586    580        437        890       266        40            0   \n",
      "4   2804    580        518        814       157        40            0   \n",
      "5    651    522       1129       1407       484        58            0   \n",
      "6   1015    522        888        585      1524        82            0   \n",
      "7    590    702        779        495       134        40            1   \n",
      "8    927   1365        992        319       243      2307            1   \n",
      "9   1309    907        366        946       548       234            0   \n",
      "\n",
      "   blackiscomp  timecontrol  white_clock  black_clock  eco  plycount  \\\n",
      "0            0          111           15           15  148        45   \n",
      "1            1           86            2            2  236        30   \n",
      "2            1          111           15           15   95         1   \n",
      "3            1           63            6            6  105        56   \n",
      "4            1           63            6            6  113        58   \n",
      "5            1          111           15           15    0        46   \n",
      "6            1           63            6            6  117        40   \n",
      "7            0           63            6            6  477        66   \n",
      "8            0          111           15           15  256        39   \n",
      "9            1          111           15           15  145        28   \n",
      "\n",
      "   commentaries  \n",
      "0             0  \n",
      "1            12  \n",
      "2            14  \n",
      "3            14  \n",
      "4            14  \n",
      "5            10  \n",
      "6             4  \n",
      "7            14  \n",
      "8             4  \n",
      "9            12  \n",
      "   white  black  white_elo  black_elo  white_rd  black_rd  whiteiscomp  \\\n",
      "0   1579    104        911       1466       275        44            0   \n",
      "1   1782    486        640        709       268       159            0   \n",
      "2    503    382        704        573       225        76            0   \n",
      "3   1569    486       1134       1597       362        56            0   \n",
      "4    511    197       1011        239       397      1860            1   \n",
      "5    719   1292        125       1062       992       314            0   \n",
      "6   2058   1823        946        568       369       336            1   \n",
      "7    409    446        756        504       188       239            1   \n",
      "8    511     24        956        351       287       377            1   \n",
      "9    511   2096        908        288       298      2057            1   \n",
      "\n",
      "   blackiscomp  timecontrol  white_clock  black_clock  eco  plycount  \n",
      "0            1           68            2            2    0         0  \n",
      "1            1           90           14           14   44        19  \n",
      "2            1           48            6            6    0        47  \n",
      "3            1           68            2            2    0         0  \n",
      "4            0           90           14           14  232        29  \n",
      "5            1           68            2            2    1        56  \n",
      "6            0          100           14           14  195        41  \n",
      "7            0            2            1            1  334        51  \n",
      "8            0           24            4            4   45        43  \n",
      "9            0           24            4            4   98         6  \n"
     ]
    }
   ],
   "source": [
    "print df[:10]\n",
    "print test_file[:10]"
   ]
  },
  {
   "cell_type": "code",
   "execution_count": 9,
   "metadata": {},
   "outputs": [],
   "source": [
    "df= df.values\n",
    "test_file = test_file.values"
   ]
  },
  {
   "cell_type": "code",
   "execution_count": 10,
   "metadata": {},
   "outputs": [
    {
     "name": "stdout",
     "output_type": "stream",
     "text": [
      "(52676, 14)\n"
     ]
    }
   ],
   "source": [
    "print df.shape"
   ]
  },
  {
   "cell_type": "code",
   "execution_count": 11,
   "metadata": {},
   "outputs": [
    {
     "name": "stdout",
     "output_type": "stream",
     "text": [
      "42140\n",
      "(42140, 13) (42140,)\n",
      "(10536, 13) (10536,)\n"
     ]
    }
   ],
   "source": [
    "split = int(0.8*df.shape[0])\n",
    "train_x = df[:split,:-1]\n",
    "train_y = df[:split,-1]\n",
    "test_x = df[split:,:-1]\n",
    "test_y = df[split:,-1]\n",
    "print split\n",
    "print train_x.shape,train_y.shape\n",
    "print test_x.shape,test_y.shape"
   ]
  },
  {
   "cell_type": "code",
   "execution_count": 12,
   "metadata": {},
   "outputs": [
    {
     "data": {
      "text/plain": [
       "SVC(C=1.0, cache_size=200, class_weight=None, coef0=0.0,\n",
       "  decision_function_shape='ovr', degree=3, gamma='auto', kernel='rbf',\n",
       "  max_iter=-1, probability=False, random_state=None, shrinking=True,\n",
       "  tol=0.001, verbose=False)"
      ]
     },
     "execution_count": 12,
     "metadata": {},
     "output_type": "execute_result"
    }
   ],
   "source": [
    "clf = SVC()\n",
    "clf.fit(train_x,train_y)"
   ]
  },
  {
   "cell_type": "code",
   "execution_count": 13,
   "metadata": {},
   "outputs": [
    {
     "name": "stdout",
     "output_type": "stream",
     "text": [
      "0.999383009018\n",
      "<---->\n",
      "0.30979498861\n"
     ]
    }
   ],
   "source": [
    "print clf.score(train_x,train_y)\n",
    "print \"<---->\"\n",
    "print clf.score(test_x,test_y)\n"
   ]
  },
  {
   "cell_type": "code",
   "execution_count": null,
   "metadata": {},
   "outputs": [],
   "source": []
  }
 ],
 "metadata": {
  "kernelspec": {
   "display_name": "Python 2",
   "language": "python",
   "name": "python2"
  },
  "language_info": {
   "codemirror_mode": {
    "name": "ipython",
    "version": 2
   },
   "file_extension": ".py",
   "mimetype": "text/x-python",
   "name": "python",
   "nbconvert_exporter": "python",
   "pygments_lexer": "ipython2",
   "version": "2.7.14"
  }
 },
 "nbformat": 4,
 "nbformat_minor": 2
}
