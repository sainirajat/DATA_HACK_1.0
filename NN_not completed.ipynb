{
 "cells": [
  {
   "cell_type": "code",
   "execution_count": 1,
   "metadata": {},
   "outputs": [],
   "source": [
    "import numpy as np\n",
    "import matplotlib.pyplot as plt\n",
    "%matplotlib inline \n",
    "import pandas as pd"
   ]
  },
  {
   "cell_type": "code",
   "execution_count": 2,
   "metadata": {},
   "outputs": [
    {
     "name": "stderr",
     "output_type": "stream",
     "text": [
      "Using TensorFlow backend.\n"
     ]
    }
   ],
   "source": [
    "from keras.layers import Input,Activation\n",
    "from keras.utils import np_utils\n",
    "# from keras."
   ]
  },
  {
   "cell_type": "code",
   "execution_count": 3,
   "metadata": {},
   "outputs": [],
   "source": [
    "df = pd.read_csv('./training_data.csv')\n",
    "test_file = pd.read_csv('./testing_data.csv')"
   ]
  },
  {
   "cell_type": "code",
   "execution_count": 4,
   "metadata": {},
   "outputs": [],
   "source": [
    "# print df[:10]"
   ]
  },
  {
   "cell_type": "code",
   "execution_count": 5,
   "metadata": {},
   "outputs": [
    {
     "name": "stdout",
     "output_type": "stream",
     "text": [
      "Index([u'id', u'game', u'white', u'black', u'white_elo', u'black_elo',\n",
      "       u'white_rd', u'black_rd', u'whiteiscomp', u'blackiscomp',\n",
      "       u'timecontrol', u'date', u'time', u'white_clock', u'black_clock',\n",
      "       u'eco', u'plycount', u'commentaries', u'moves'],\n",
      "      dtype='object')\n"
     ]
    }
   ],
   "source": [
    "print df.columns"
   ]
  },
  {
   "cell_type": "code",
   "execution_count": 6,
   "metadata": {},
   "outputs": [],
   "source": [
    "ids=test_file['id']"
   ]
  },
  {
   "cell_type": "code",
   "execution_count": 7,
   "metadata": {},
   "outputs": [],
   "source": [
    "df = df.drop(['id','game','date','time','moves','white_clock','black_clock'],axis=1)\n",
    "test_file = test_file.drop(['id','game','date','time','moves','white_clock','black_clock'],axis=1)"
   ]
  },
  {
   "cell_type": "code",
   "execution_count": 8,
   "metadata": {},
   "outputs": [
    {
     "name": "stdout",
     "output_type": "stream",
     "text": [
      "Index([u'white', u'black', u'white_elo', u'black_elo', u'white_rd',\n",
      "       u'black_rd', u'whiteiscomp', u'blackiscomp', u'timecontrol', u'eco',\n",
      "       u'plycount', u'commentaries'],\n",
      "      dtype='object')\n",
      "Index([u'white', u'black', u'white_elo', u'black_elo', u'white_rd',\n",
      "       u'black_rd', u'whiteiscomp', u'blackiscomp', u'timecontrol', u'eco',\n",
      "       u'plycount'],\n",
      "      dtype='object')\n"
     ]
    }
   ],
   "source": [
    "print df.columns\n",
    "print test_file.columns\n"
   ]
  },
  {
   "cell_type": "code",
   "execution_count": 9,
   "metadata": {},
   "outputs": [],
   "source": [
    "from sklearn.preprocessing import LabelEncoder"
   ]
  },
  {
   "cell_type": "code",
   "execution_count": 10,
   "metadata": {},
   "outputs": [],
   "source": [
    "le = LabelEncoder()\n",
    "df = df.apply(le.fit_transform)"
   ]
  },
  {
   "cell_type": "code",
   "execution_count": 11,
   "metadata": {},
   "outputs": [],
   "source": [
    "le2 = LabelEncoder()\n",
    "test_file = test_file.apply(le2.fit_transform)"
   ]
  },
  {
   "cell_type": "code",
   "execution_count": 12,
   "metadata": {},
   "outputs": [],
   "source": [
    "# print df[:10]"
   ]
  },
  {
   "cell_type": "code",
   "execution_count": 13,
   "metadata": {},
   "outputs": [],
   "source": [
    "df = df.values\n",
    "test_file = test_file.values"
   ]
  },
  {
   "cell_type": "code",
   "execution_count": 14,
   "metadata": {},
   "outputs": [
    {
     "name": "stdout",
     "output_type": "stream",
     "text": [
      "(52676, 12)\n"
     ]
    }
   ],
   "source": [
    "print df.shape"
   ]
  },
  {
   "cell_type": "code",
   "execution_count": 15,
   "metadata": {},
   "outputs": [
    {
     "name": "stdout",
     "output_type": "stream",
     "text": [
      "(42140, 11) (42140,)\n",
      "(10536, 11) (10536,)\n"
     ]
    }
   ],
   "source": [
    "split = int(.80*df.shape[0])\n",
    "train_x = df[:split,:-1]\n",
    "train_y = df[:split,-1]\n",
    "test_x = df[split:,:-1]\n",
    "test_y = df[split:,-1]\n",
    "print train_x.shape,train_y.shape\n",
    "print test_x.shape,test_y.shape"
   ]
  },
  {
   "cell_type": "code",
   "execution_count": 16,
   "metadata": {},
   "outputs": [
    {
     "name": "stdout",
     "output_type": "stream",
     "text": [
      "(42140, 15)\n",
      "(10536, 15)\n"
     ]
    }
   ],
   "source": [
    "train_yy = np_utils.to_categorical(train_y)\n",
    "test_yy = np_utils.to_categorical(test_y)\n",
    "print train_yy.shape\n",
    "print test_yy.shape"
   ]
  },
  {
   "cell_type": "code",
   "execution_count": 17,
   "metadata": {},
   "outputs": [],
   "source": [
    "from keras.models import Sequential\n",
    "from keras.layers import Dropout,InputLayer,Dense"
   ]
  },
  {
   "cell_type": "code",
   "execution_count": 18,
   "metadata": {},
   "outputs": [
    {
     "name": "stdout",
     "output_type": "stream",
     "text": [
      "_________________________________________________________________\n",
      "Layer (type)                 Output Shape              Param #   \n",
      "=================================================================\n",
      "dense_1 (Dense)              (None, 8)                 96        \n",
      "_________________________________________________________________\n",
      "activation_1 (Activation)    (None, 8)                 0         \n",
      "_________________________________________________________________\n",
      "dropout_1 (Dropout)          (None, 8)                 0         \n",
      "_________________________________________________________________\n",
      "dense_2 (Dense)              (None, 12)                108       \n",
      "_________________________________________________________________\n",
      "activation_2 (Activation)    (None, 12)                0         \n",
      "_________________________________________________________________\n",
      "dropout_2 (Dropout)          (None, 12)                0         \n",
      "_________________________________________________________________\n",
      "dense_3 (Dense)              (None, 15)                195       \n",
      "_________________________________________________________________\n",
      "activation_3 (Activation)    (None, 15)                0         \n",
      "=================================================================\n",
      "Total params: 399\n",
      "Trainable params: 399\n",
      "Non-trainable params: 0\n",
      "_________________________________________________________________\n"
     ]
    }
   ],
   "source": [
    "model = Sequential()\n",
    "model.add(Dense(8,input_shape=(11,)))\n",
    "model.add(Activation('relu'))\n",
    "model.add(Dropout(0.3))\n",
    "\n",
    "model.add(Dense(12))\n",
    "model.add(Activation('relu'))\n",
    "model.add(Dropout(0.3))\n",
    "\n",
    "model.add(Dense(15))\n",
    "model.add(Activation('softmax'))\n",
    "model.summary()"
   ]
  },
  {
   "cell_type": "code",
   "execution_count": 19,
   "metadata": {},
   "outputs": [],
   "source": [
    "model.compile(optimizer='adam',metrics=['accuracy'],loss='categorical_crossentropy')"
   ]
  },
  {
   "cell_type": "code",
   "execution_count": 20,
   "metadata": {},
   "outputs": [
    {
     "name": "stdout",
     "output_type": "stream",
     "text": [
      "Train on 42140 samples, validate on 10536 samples\n",
      "Epoch 1/10\n",
      " - 11s - loss: 7.3662 - acc: 0.2612 - val_loss: 2.0406 - val_acc: 0.2773\n",
      "Epoch 2/10\n",
      " - 10s - loss: 1.9506 - acc: 0.2748 - val_loss: 1.9292 - val_acc: 0.2674\n",
      "Epoch 3/10\n",
      " - 10s - loss: 1.9291 - acc: 0.2772 - val_loss: 1.9291 - val_acc: 0.2835\n",
      "Epoch 4/10\n",
      " - 10s - loss: 1.9275 - acc: 0.2778 - val_loss: 1.9286 - val_acc: 0.2835\n",
      "Epoch 5/10\n",
      " - 11s - loss: 1.9265 - acc: 0.2773 - val_loss: 1.9285 - val_acc: 0.2835\n",
      "Epoch 6/10\n",
      " - 11s - loss: 1.9259 - acc: 0.2769 - val_loss: 1.9286 - val_acc: 0.2835\n",
      "Epoch 7/10\n",
      " - 11s - loss: 1.9258 - acc: 0.2781 - val_loss: 1.9284 - val_acc: 0.2835\n",
      "Epoch 8/10\n",
      " - 11s - loss: 1.9255 - acc: 0.2796 - val_loss: 1.9292 - val_acc: 0.2674\n",
      "Epoch 9/10\n",
      " - 11s - loss: 1.9256 - acc: 0.2755 - val_loss: 1.9291 - val_acc: 0.2674\n",
      "Epoch 10/10\n",
      " - 10s - loss: 1.9254 - acc: 0.2800 - val_loss: 1.9288 - val_acc: 0.2835\n"
     ]
    },
    {
     "data": {
      "text/plain": [
       "<keras.callbacks.History at 0x11c1d9250>"
      ]
     },
     "execution_count": 20,
     "metadata": {},
     "output_type": "execute_result"
    }
   ],
   "source": [
    "model.fit(train_x,train_yy,epochs=10,batch_size=8,verbose=2,validation_data=(test_x,test_yy))"
   ]
  },
  {
   "cell_type": "code",
   "execution_count": 21,
   "metadata": {},
   "outputs": [],
   "source": [
    "# print ids[:10]"
   ]
  },
  {
   "cell_type": "code",
   "execution_count": 24,
   "metadata": {},
   "outputs": [],
   "source": [
    "predictions = model.predict(test_file)"
   ]
  },
  {
   "cell_type": "code",
   "execution_count": 38,
   "metadata": {},
   "outputs": [],
   "source": [
    "new_predictions = np.argmax(predictions)"
   ]
  },
  {
   "cell_type": "code",
   "execution_count": 39,
   "metadata": {},
   "outputs": [
    {
     "name": "stdout",
     "output_type": "stream",
     "text": [
      "[ 0.13286293  0.02758442  0.03714919  0.00109132  0.27904019  0.01099035\n",
      "  0.03130981  0.00183791  0.00412682  0.00730518  0.12311025  0.02691001\n",
      "  0.03980646  0.00103461  0.27584052]\n"
     ]
    }
   ],
   "source": [
    "print predictions[0]"
   ]
  },
  {
   "cell_type": "code",
   "execution_count": 40,
   "metadata": {},
   "outputs": [
    {
     "name": "stdout",
     "output_type": "stream",
     "text": [
      "104190\n"
     ]
    }
   ],
   "source": [
    "print new_predictions\n",
    "\n",
    "np.argmax?\n"
   ]
  },
  {
   "cell_type": "code",
   "execution_count": null,
   "metadata": {},
   "outputs": [],
   "source": []
  },
  {
   "cell_type": "code",
   "execution_count": null,
   "metadata": {},
   "outputs": [],
   "source": []
  }
 ],
 "metadata": {
  "kernelspec": {
   "display_name": "Python 2",
   "language": "python",
   "name": "python2"
  },
  "language_info": {
   "codemirror_mode": {
    "name": "ipython",
    "version": 2
   },
   "file_extension": ".py",
   "mimetype": "text/x-python",
   "name": "python",
   "nbconvert_exporter": "python",
   "pygments_lexer": "ipython2",
   "version": "2.7.14"
  }
 },
 "nbformat": 4,
 "nbformat_minor": 2
}
